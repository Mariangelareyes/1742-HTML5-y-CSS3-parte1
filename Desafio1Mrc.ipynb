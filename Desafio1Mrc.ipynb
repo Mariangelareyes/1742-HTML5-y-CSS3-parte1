{
  "nbformat": 4,
  "nbformat_minor": 0,
  "metadata": {
    "colab": {
      "provenance": [],
      "authorship_tag": "ABX9TyMonN1++PwX29BRJ+ToNPH5",
      "include_colab_link": true
    },
    "kernelspec": {
      "name": "python3",
      "display_name": "Python 3"
    },
    "language_info": {
      "name": "python"
    }
  },
  "cells": [
    {
      "cell_type": "markdown",
      "metadata": {
        "id": "view-in-github",
        "colab_type": "text"
      },
      "source": [
        "<a href=\"https://colab.research.google.com/github/Mariangelareyes/1742-HTML5-y-CSS3-parte1/blob/master/Desafio1Mrc.ipynb\" target=\"_parent\"><img src=\"https://colab.research.google.com/assets/colab-badge.svg\" alt=\"Open In Colab\"/></a>"
      ]
    },
    {
      "cell_type": "code",
      "source": [
        "print(\"Escuela de Datos Alura\")\n"
      ],
      "metadata": {
        "colab": {
          "base_uri": "https://localhost:8080/"
        },
        "id": "oFnfrdGC3e-T",
        "outputId": "41b0c525-860d-4c83-a095-0943674e60b3"
      },
      "execution_count": 1,
      "outputs": [
        {
          "output_type": "stream",
          "name": "stdout",
          "text": [
            "Escuela de Datos Alura\n"
          ]
        }
      ]
    },
    {
      "cell_type": "markdown",
      "source": [
        "2 - Imprime tu nombre y tu apellido siguiendo la estructura a continuación:"
      ],
      "metadata": {
        "id": "E14xhmm44ORH"
      }
    },
    {
      "cell_type": "code",
      "source": [
        "print (\"Nombre: Mariangela\" )\n",
        "print (\"Apellido: Reyes\")"
      ],
      "metadata": {
        "colab": {
          "base_uri": "https://localhost:8080/"
        },
        "id": "Qnnw7ByK4XCH",
        "outputId": "845712d8-eaae-45c2-8d9b-6b47c6043e09"
      },
      "execution_count": 2,
      "outputs": [
        {
          "output_type": "stream",
          "name": "stdout",
          "text": [
            "Nombre: Mariangela\n",
            "Apellido: Reyes\n"
          ]
        }
      ]
    },
    {
      "cell_type": "markdown",
      "source": [
        " 3 - Imprime tu primer nombre letra por letra. Por ejemplo, si mi nombre es Mariangela, la salida sería:"
      ],
      "metadata": {
        "id": "-kn8F2115O0B"
      }
    },
    {
      "cell_type": "code",
      "source": [
        "print(\"M\")\n",
        "print(\"A\")\n",
        "print(\"R\")\n",
        "print(\"I\")\n",
        "print(\"A\")\n",
        "print(\"N\")\n",
        "print(\"G\")\n",
        "print(\"E\")\n",
        "print(\"L\")\n",
        "print(\"A\")\n",
        "\n"
      ],
      "metadata": {
        "colab": {
          "base_uri": "https://localhost:8080/"
        },
        "id": "uOgeMImZ5VVe",
        "outputId": "b6552265-74e8-4225-c6b9-6ff50283090f"
      },
      "execution_count": 3,
      "outputs": [
        {
          "output_type": "stream",
          "name": "stdout",
          "text": [
            "M\n",
            "A\n",
            "R\n",
            "I\n",
            "A\n",
            "N\n",
            "G\n",
            "E\n",
            "L\n",
            "A\n"
          ]
        }
      ]
    },
    {
      "cell_type": "markdown",
      "source": [],
      "metadata": {
        "id": "QTQJqUtG6oN4"
      }
    },
    {
      "cell_type": "markdown",
      "source": [
        "4 - Imprime tu fecha de nacimiento en formato día mes año. Recuerda que los valores de día y año no deben estar entre comillas."
      ],
      "metadata": {
        "id": "3-RVBkKg6qxn"
      }
    },
    {
      "cell_type": "code",
      "source": [
        "print(22, 'abril', 1972)"
      ],
      "metadata": {
        "colab": {
          "base_uri": "https://localhost:8080/"
        },
        "id": "fcTuElck6teX",
        "outputId": "5ddcd15f-2192-4b52-da28-0fb9f62ddc5f"
      },
      "execution_count": 5,
      "outputs": [
        {
          "output_type": "stream",
          "name": "stdout",
          "text": [
            "22 abril 1972\n"
          ]
        }
      ]
    },
    {
      "cell_type": "markdown",
      "source": [
        "5 - Imprime, en una sola instrucción print, el año actual en el que estás realizando este curso. El valor del año debe ser un dato numérico."
      ],
      "metadata": {
        "id": "PISMcFR97k0X"
      }
    },
    {
      "cell_type": "code",
      "source": [
        "print('Año actual: ', 2025)"
      ],
      "metadata": {
        "colab": {
          "base_uri": "https://localhost:8080/"
        },
        "id": "Lyd0uvw67nqp",
        "outputId": "c5c5eef6-8b44-478f-a209-95dbb4c08a8f"
      },
      "execution_count": 6,
      "outputs": [
        {
          "output_type": "stream",
          "name": "stdout",
          "text": [
            "Año actual:  2025\n"
          ]
        }
      ]
    }
  ]
}
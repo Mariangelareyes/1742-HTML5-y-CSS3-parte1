{
  "nbformat": 4,
  "nbformat_minor": 0,
  "metadata": {
    "colab": {
      "provenance": [],
      "authorship_tag": "ABX9TyMbPRL2BtM36EOjRTbH3QuU",
      "include_colab_link": true
    },
    "kernelspec": {
      "name": "python3",
      "display_name": "Python 3"
    },
    "language_info": {
      "name": "python"
    }
  },
  "cells": [
    {
      "cell_type": "markdown",
      "metadata": {
        "id": "view-in-github",
        "colab_type": "text"
      },
      "source": [
        "<a href=\"https://colab.research.google.com/github/Mariangelareyes/1742-HTML5-y-CSS3-parte1/blob/master/Desafio_Es_Hora_de_Practicar.ipynb\" target=\"_parent\"><img src=\"https://colab.research.google.com/assets/colab-badge.svg\" alt=\"Open In Colab\"/></a>"
      ]
    },
    {
      "cell_type": "code",
      "execution_count": null,
      "metadata": {
        "id": "XacB6OtT4JPQ"
      },
      "outputs": [],
      "source": []
    },
    {
      "cell_type": "markdown",
      "source": [
        "1 - Crea un programa que solicite al usuario que escriba su nombre y luego imprima \"Hola, [nombre].\""
      ],
      "metadata": {
        "id": "S8R8W4oi4VWA"
      }
    },
    {
      "cell_type": "code",
      "source": [
        "nombre = input(\"Ingrese su nombre: \")\n",
        "print(\"Hola, \" + nombre + \".\")"
      ],
      "metadata": {
        "colab": {
          "base_uri": "https://localhost:8080/"
        },
        "id": "nOFVuMp04kpI",
        "outputId": "4d96159f-7c89-4972-e50a-ab0b977e9d38"
      },
      "execution_count": 1,
      "outputs": [
        {
          "output_type": "stream",
          "name": "stdout",
          "text": [
            "Ingrese su nombre: Mariangela \n",
            "Hola, Mariangela .\n"
          ]
        }
      ]
    },
    {
      "cell_type": "markdown",
      "source": [
        "2 - Crea un programa que solicite al usuario que escriba su nombre y edad, y luego imprima \"Hola, [nombre], tienes [edad] años.\""
      ],
      "metadata": {
        "id": "-_IR1CbI5IKH"
      }
    },
    {
      "cell_type": "markdown",
      "source": [],
      "metadata": {
        "id": "8oWTIREa5NA_"
      }
    },
    {
      "cell_type": "code",
      "source": [
        "nombre = input(\"Ingrese su nombre: \")\n",
        "edad = input(\"Ingrese su edad: \")\n",
        "print(\"Hola, \" + nombre + \", tienes \" + edad + \" años.\")"
      ],
      "metadata": {
        "colab": {
          "base_uri": "https://localhost:8080/"
        },
        "id": "TtRi5UFe5Tdw",
        "outputId": "7279efe2-7a59-427c-9c93-d940c1e9cad7"
      },
      "execution_count": 2,
      "outputs": [
        {
          "output_type": "stream",
          "name": "stdout",
          "text": [
            "Ingrese su nombre: Mariangela\n",
            "Ingrese su edad: 53\n",
            "Hola, Mariangela, tienes 53 años.\n"
          ]
        }
      ]
    },
    {
      "cell_type": "markdown",
      "source": [
        "3 - Crea un programa que solicite al usuario que escriba su nombre, edad y altura en metros, y luego imprima \"Hola, [nombre], tienes [edad] años y mides [altura] metros.\"\n"
      ],
      "metadata": {
        "id": "lhJ5nGou5fau"
      }
    },
    {
      "cell_type": "code",
      "source": [
        "nombre = input(\"Ingrese su nombre: \")\n",
        "edad = input(\"Ingrese su edad: \")\n",
        "altura = input(\"Ingrese su altura en metros: \")\n",
        "print(\"Hola, \" + nombre + \", tienes \" + edad + \" años y mides \" + altura + \" metros.\")"
      ],
      "metadata": {
        "colab": {
          "base_uri": "https://localhost:8080/"
        },
        "id": "V5Hx7j7S5q-2",
        "outputId": "6f72c569-7f4b-4982-e0e3-162e627a4287"
      },
      "execution_count": 3,
      "outputs": [
        {
          "output_type": "stream",
          "name": "stdout",
          "text": [
            "Ingrese su nombre: Mariangela\n",
            "Ingrese su edad: 53\n",
            "Ingrese su altura en metros: 159\n",
            "Hola, Mariangela, tienes 53 años y mides 159 metros.\n"
          ]
        }
      ]
    },
    {
      "cell_type": "markdown",
      "source": [
        "Calculadora con operadores\n",
        "\n",
        "4 - Crea un programa que solicite dos valores numéricos al usuario y luego imprima la suma de ambos valores."
      ],
      "metadata": {
        "id": "FJT8wF_R57y_"
      }
    },
    {
      "cell_type": "code",
      "source": [
        "valor1 = float(input(\"Ingrese el primer valor: \"))\n",
        "valor2 = float(input(\"Ingrese el segundo valor: \"))\n",
        "suma = valor1 + valor2\n",
        "print(\"La suma de los valores es: \" + str(suma))"
      ],
      "metadata": {
        "colab": {
          "base_uri": "https://localhost:8080/"
        },
        "id": "rkakPb_D6NJv",
        "outputId": "5fd7ccbc-20b7-411d-c44d-1b2b78c7a7a7"
      },
      "execution_count": 4,
      "outputs": [
        {
          "output_type": "stream",
          "name": "stdout",
          "text": [
            "Ingrese el primer valor: 5\n",
            "Ingrese el segundo valor: 5\n",
            "La suma de los valores es: 10.0\n"
          ]
        }
      ]
    },
    {
      "cell_type": "markdown",
      "source": [
        "5 - Crea un programa que solicite tres valores numéricos al usuario y luego imprima la suma de los tres valores."
      ],
      "metadata": {
        "id": "GMkflnQt6viP"
      }
    },
    {
      "cell_type": "code",
      "source": [
        "valor1 = input(\"Ingrese el primer valor: \")\n",
        "valor2 = input(\"Ingrese el segundo valor: \")\n",
        "valor3 = input(\"Ingrese el tercer valor: \")\n",
        "suma = int(valor1) + int(valor2) + int(valor3)\n",
        "print(\"La suma de \" , valor1 + valor2 + valor3, \":\" , suma)"
      ],
      "metadata": {
        "colab": {
          "base_uri": "https://localhost:8080/"
        },
        "id": "k815W2pK7i-P",
        "outputId": "dfb2a002-a62f-4036-93be-e3ff52a6edde"
      },
      "execution_count": 8,
      "outputs": [
        {
          "output_type": "stream",
          "name": "stdout",
          "text": [
            "Ingrese el primer valor: 10\n",
            "Ingrese el segundo valor: 20\n",
            "Ingrese el tercer valor: 30\n",
            "La suma de  102030 : 60\n"
          ]
        }
      ]
    },
    {
      "cell_type": "markdown",
      "source": [
        "6- Crea un programa que solicite dos valores numéricos al usuario y luego imprima la resta del primero menos el segundo valor."
      ],
      "metadata": {
        "id": "2eWlH8zXB_s6"
      }
    },
    {
      "cell_type": "code",
      "source": [
        "valor1 = float(input(\"Ingrese el primer valor: \"))\n",
        "valor2 = float(input(\"Ingrese el segundo valor: \"))\n",
        "resta = valor1 - valor2\n",
        "print(\"La resta de los valores es: \" + str(resta))"
      ],
      "metadata": {
        "colab": {
          "base_uri": "https://localhost:8080/"
        },
        "id": "aBu6bdwBCLAZ",
        "outputId": "a9785d50-30b9-4a58-b367-0fc5bb037dd6"
      },
      "execution_count": 9,
      "outputs": [
        {
          "output_type": "stream",
          "name": "stdout",
          "text": [
            "Ingrese el primer valor: 25\n",
            "Ingrese el segundo valor: 10\n",
            "La resta de los valores es: 15.0\n"
          ]
        }
      ]
    },
    {
      "cell_type": "markdown",
      "source": [
        "7 - Crea un programa que solicite dos valores numéricos al usuario y luego imprima la multiplicación de los dos valores."
      ],
      "metadata": {
        "id": "FYvnG1RQC1MJ"
      }
    },
    {
      "cell_type": "code",
      "source": [
        "valor1 = input(\"Ingrese el primer valor: \")\n",
        "valor2 = input(\"Ingrese el segundo valor: \")\n",
        "multiplicacion = int(valor1) * int(valor2)\n",
        "print(\"La multiplicación de \", valor1, \" * \", valor2, \" es:\" , multiplicacion)"
      ],
      "metadata": {
        "colab": {
          "base_uri": "https://localhost:8080/"
        },
        "id": "3eNOzRSYC7kq",
        "outputId": "dc39df6a-ac6c-4012-b524-c5860b9d2f3e"
      },
      "execution_count": 17,
      "outputs": [
        {
          "output_type": "stream",
          "name": "stdout",
          "text": [
            "Ingrese el primer valor: 10\n",
            "Ingrese el segundo valor: 30\n",
            "La multiplicación de  10  *  30  es: 300\n"
          ]
        }
      ]
    },
    {
      "cell_type": "markdown",
      "source": [
        "8 - Crea un programa que solicite dos valores numéricos, un numerador y un denominador, y realice la división entre los dos valores. Asegúrate de que el valor del denominador no sea igual a 0."
      ],
      "metadata": {
        "id": "jXu0uppSF0wt"
      }
    },
    {
      "cell_type": "code",
      "source": [
        "valor1 = float(input(\"Ingrese el numerador: \"))\n",
        "valor2 = float(input(\"Ingrese el denominador: \"))\n",
        "if valor2 != 0:\n",
        "    division = valor1 / valor2\n",
        "    print(\"La división de los valores es: \" + str(division))"
      ],
      "metadata": {
        "colab": {
          "base_uri": "https://localhost:8080/"
        },
        "id": "gtof_2bfF7LS",
        "outputId": "2a4bccde-9bc5-4b33-ca7b-67f4958de1aa"
      },
      "execution_count": 18,
      "outputs": [
        {
          "output_type": "stream",
          "name": "stdout",
          "text": [
            "Ingrese el numerador: 15\n",
            "Ingrese el denominador: 5\n",
            "La división de los valores es: 3.0\n"
          ]
        }
      ]
    },
    {
      "cell_type": "markdown",
      "source": [
        "9 - Crea un programa que solicite dos valores numéricos, un operador y una potencia, y realice la exponenciación entre estos dos valores."
      ],
      "metadata": {
        "id": "7pZnPbgsGU28"
      }
    },
    {
      "cell_type": "code",
      "source": [
        "valor1 = float(input(\"Ingrese el primer valor: \"))\n",
        "valor2 = float(input(\"Ingrese el segundo valor: \"))\n",
        "potencia = valor1 ** valor2\n",
        "print(\"La potencia de los valores es: \" + str(potencia))"
      ],
      "metadata": {
        "colab": {
          "base_uri": "https://localhost:8080/"
        },
        "id": "CIihceq5GWkD",
        "outputId": "cf070064-4343-435b-ea03-4610599c3193"
      },
      "execution_count": 19,
      "outputs": [
        {
          "output_type": "stream",
          "name": "stdout",
          "text": [
            "Ingrese el primer valor: 5\n",
            "Ingrese el segundo valor: 3\n",
            "La potencia de los valores es: 125.0\n"
          ]
        }
      ]
    },
    {
      "cell_type": "markdown",
      "source": [
        "10 - Crea un programa que solicite dos valores numéricos, un numerador y un denominador, y realice la división entera entre los dos valores. Asegúrate de que el valor del denominador no sea igual a 0."
      ],
      "metadata": {
        "id": "TTROElIlGkCc"
      }
    },
    {
      "cell_type": "code",
      "source": [
        "valor1 = float(input(\"Ingrese el numerador: \"))\n",
        "valor2 = float(input(\"Ingrese el denominador: \"))\n",
        "if valor2 != 0:\n",
        "    division_entera = valor1 / valor2\n",
        "    print(\"La división entera de los valores es: \" + str(division_entera))"
      ],
      "metadata": {
        "colab": {
          "base_uri": "https://localhost:8080/"
        },
        "id": "_vQ-k5uSGxQl",
        "outputId": "6aa89434-5357-4293-f98d-44e2d95bee8e"
      },
      "execution_count": 22,
      "outputs": [
        {
          "output_type": "stream",
          "name": "stdout",
          "text": [
            "Ingrese el numerador: 25\n",
            "Ingrese el denominador: 5\n",
            "La división entera de los valores es: 5.0\n"
          ]
        }
      ]
    },
    {
      "cell_type": "markdown",
      "source": [
        "11 - Crea un programa que solicite dos valores numéricos, un numerador y un denominador, y devuelva el resto de la división entre los dos valores. Asegúrate de que el valor del denominador no sea igual a 0."
      ],
      "metadata": {
        "id": "qXo1O9R_Hcsb"
      }
    },
    {
      "cell_type": "code",
      "source": [
        "valor1 = float(input(\"Ingrese el numerador: \"))\n",
        "valor2 = float(input(\"Ingrese el denominador: \"))\n",
        "if valor2 != 0:\n",
        "    resto = valor1 % valor2\n",
        "    print(\"El resto de la división de los valores es: \" + str(resto))"
      ],
      "metadata": {
        "colab": {
          "base_uri": "https://localhost:8080/"
        },
        "id": "xq1Wq8KnHl_F",
        "outputId": "4762a613-211d-4fe9-dcb1-223c28dbcfa9"
      },
      "execution_count": 23,
      "outputs": [
        {
          "output_type": "stream",
          "name": "stdout",
          "text": [
            "Ingrese el numerador: 40\n",
            "Ingrese el denominador: 12\n",
            "El resto de la división de los valores es: 4.0\n"
          ]
        }
      ]
    },
    {
      "cell_type": "markdown",
      "source": [
        "12 - Crea un código que solicite las 3 notas de un estudiante e imprima el promedio de las notas."
      ],
      "metadata": {
        "id": "OqFOU6ExILVU"
      }
    },
    {
      "cell_type": "code",
      "source": [
        "codigo = input(\"Ingrese el código del estudiante: \")\n",
        "nota1 = float(input(\"Ingrese la primera nota: \"))\n",
        "nota2 = float(input(\"Ingrese la segunda nota: \"))\n",
        "nota3 = float(input(\"Ingrese la tercera nota: \"))\n",
        "promedio = (nota1 + nota2 + nota3) / 3\n",
        "print(\"El promedio de las notas del estudiante \" + codigo + \" es: \" + str(promedio))"
      ],
      "metadata": {
        "colab": {
          "base_uri": "https://localhost:8080/"
        },
        "id": "DRufacgkIgTk",
        "outputId": "d7218af1-c2c1-4a12-a19b-c50a87207417"
      },
      "execution_count": 24,
      "outputs": [
        {
          "output_type": "stream",
          "name": "stdout",
          "text": [
            "Ingrese el código del estudiante: 7\n",
            "Ingrese la primera nota: 5\n",
            "Ingrese la segunda nota: 4\n",
            "Ingrese la tercera nota: 7\n",
            "El promedio de las notas del estudiante 7 es: 5.333333333333333\n"
          ]
        }
      ]
    },
    {
      "cell_type": "markdown",
      "source": [
        "13 - Crea un código que calcule e imprima el promedio ponderado de los números 5, 12, 20 y 15 con pesos respectivamente iguales a 1, 2, 3 y 4."
      ],
      "metadata": {
        "id": "2NdDma90I-mE"
      }
    },
    {
      "cell_type": "code",
      "source": [
        "num1, num2, num3, num4 = 5, 12, 20, 15\n",
        "peso1, peso2, peso3, peso4 = 1, 2, 3, 4\n",
        "promedio_ponderado = (num1 * peso1 + num2 * peso2 + num3 * peso3 + num4 * peso4) / (peso1 + peso2 + peso3 + peso4)\n",
        "print(\"El promedio ponderado de los números es: \" + str(promedio_ponderado))"
      ],
      "metadata": {
        "colab": {
          "base_uri": "https://localhost:8080/"
        },
        "id": "hCeOEIdKJCEs",
        "outputId": "51d0f3b1-5661-48b3-ba8c-892f179bd29d"
      },
      "execution_count": 25,
      "outputs": [
        {
          "output_type": "stream",
          "name": "stdout",
          "text": [
            "El promedio ponderado de los números es: 14.9\n"
          ]
        }
      ]
    },
    {
      "cell_type": "markdown",
      "source": [
        "\n",
        "**14** - Crea una variable llamada \"frase\" y asígnale una cadena de texto de tu elección. Luego, imprime la frase en pantalla."
      ],
      "metadata": {
        "id": "gI5VBK3SKROk"
      }
    },
    {
      "cell_type": "code",
      "source": [
        "frase = \"Jesus en ti Confio\"\n",
        "print(frase)"
      ],
      "metadata": {
        "colab": {
          "base_uri": "https://localhost:8080/"
        },
        "id": "AQNRjj4aKc1-",
        "outputId": "bd57eb7e-2df3-4a27-8cb7-ac5eac4096de"
      },
      "execution_count": 27,
      "outputs": [
        {
          "output_type": "stream",
          "name": "stdout",
          "text": [
            "Jesus en ti Confio\n"
          ]
        }
      ]
    },
    {
      "cell_type": "markdown",
      "source": [
        "15 - Crea un código que solicite una frase y luego imprima la frase en pantalla."
      ],
      "metadata": {
        "id": "ITFEpU_cLbTN"
      }
    },
    {
      "cell_type": "code",
      "source": [
        "frase = input(\"Ingrese una frase: \")\n",
        "print(frase)"
      ],
      "metadata": {
        "colab": {
          "base_uri": "https://localhost:8080/"
        },
        "id": "5SnyD3Q8LfnN",
        "outputId": "15b3ba4e-c185-40e3-e948-b39096ddf847"
      },
      "execution_count": 28,
      "outputs": [
        {
          "output_type": "stream",
          "name": "stdout",
          "text": [
            "Ingrese una frase: Vamos que se puede Mariangela\n",
            "Vamos que se puede Mariangela\n"
          ]
        }
      ]
    },
    {
      "cell_type": "markdown",
      "source": [
        "16 - Crea un código que solicite una frase al usuario y luego imprima la misma frase ingresada pero en mayúsculas."
      ],
      "metadata": {
        "id": "0G0cxbXJLzQ-"
      }
    },
    {
      "cell_type": "code",
      "source": [
        "frase = input(\"Ingrese una frase: \")\n",
        "print(frase.upper())"
      ],
      "metadata": {
        "colab": {
          "base_uri": "https://localhost:8080/"
        },
        "id": "WVhHISmAL2uN",
        "outputId": "21750f8b-4e1e-46be-cc2e-52ba48d8d172"
      },
      "execution_count": 29,
      "outputs": [
        {
          "output_type": "stream",
          "name": "stdout",
          "text": [
            "Ingrese una frase: Lo voy a lograr\n",
            "LO VOY A LOGRAR\n"
          ]
        }
      ]
    },
    {
      "cell_type": "markdown",
      "source": [
        "17 - Crea un código que solicite una frase al usuario y luego imprima la misma frase ingresada pero en minúsculas."
      ],
      "metadata": {
        "id": "_vz2XXAEMFXd"
      }
    },
    {
      "cell_type": "code",
      "source": [
        "frase = input(\"Ingrese una frase: \")\n",
        "print(frase.lower())"
      ],
      "metadata": {
        "colab": {
          "base_uri": "https://localhost:8080/"
        },
        "id": "12bnwaoBMKAV",
        "outputId": "22431085-3e14-422f-e9ad-5a26f560114c"
      },
      "execution_count": 30,
      "outputs": [
        {
          "output_type": "stream",
          "name": "stdout",
          "text": [
            "Ingrese una frase: LO VOY A LOGRAR\n",
            "lo voy a lograr\n"
          ]
        }
      ]
    },
    {
      "cell_type": "markdown",
      "source": [
        "18 - Crea una variable llamada \"frase\" y asígnale una cadena de texto de tu elección. Luego, imprime la frase sin espacios en blanco al principio y al final."
      ],
      "metadata": {
        "id": "eW7SaWuJMbaA"
      }
    },
    {
      "cell_type": "code",
      "source": [
        "frase = input(\"Ingrese una frase: \")\n",
        "print(frase.strip())"
      ],
      "metadata": {
        "colab": {
          "base_uri": "https://localhost:8080/"
        },
        "id": "BGs8t5aLMfIW",
        "outputId": "26e8244f-0b53-41d4-db08-7c9393e3b526"
      },
      "execution_count": 31,
      "outputs": [
        {
          "output_type": "stream",
          "name": "stdout",
          "text": [
            "Ingrese una frase: Mi Fe es grande\n",
            "Mi Fe es grande\n"
          ]
        }
      ]
    },
    {
      "cell_type": "markdown",
      "source": [
        "19 - Crea un código que solicite una frase al usuario y luego imprima la misma frase sin espacios en blanco al principio y al final."
      ],
      "metadata": {
        "id": "N7pXYNGZM7TO"
      }
    },
    {
      "cell_type": "code",
      "source": [
        "frase = input(\"Ingrese una frase: \")\n",
        "print(frase.strip())"
      ],
      "metadata": {
        "colab": {
          "base_uri": "https://localhost:8080/"
        },
        "id": "jfFKQCExM8pN",
        "outputId": "f244f2bb-bada-4004-b4cb-6abe5f2845ce"
      },
      "execution_count": 32,
      "outputs": [
        {
          "output_type": "stream",
          "name": "stdout",
          "text": [
            "Ingrese una frase:     Nunca es tarde para iniciar   \n",
            "Nunca es tarde para iniciar\n"
          ]
        }
      ]
    },
    {
      "cell_type": "markdown",
      "source": [
        "20 - Crea un código que solicite una frase al usuario y luego imprima la misma frase sin espacios en blanco al principio y al final, además de convertirla a minúsculas."
      ],
      "metadata": {
        "id": "kQzy9D3QNZpO"
      }
    },
    {
      "cell_type": "code",
      "source": [
        "frase = input(\"Ingrese una frase:\")\n",
        "print(frase.strip().lower())"
      ],
      "metadata": {
        "colab": {
          "base_uri": "https://localhost:8080/"
        },
        "id": "QxhFjjy4Na8u",
        "outputId": "5a1b5193-766f-4bbc-8573-2e5e59e93cb0"
      },
      "execution_count": 33,
      "outputs": [
        {
          "output_type": "stream",
          "name": "stdout",
          "text": [
            "Ingrese una frase:DIOS ESTA CONMIGO\n",
            "dios esta conmigo\n"
          ]
        }
      ]
    },
    {
      "cell_type": "markdown",
      "source": [
        "21 - Crea un código que solicite una frase al usuario y luego imprima la misma frase con todas las vocales \"e\" reemplazadas por la letra \"f\".\n"
      ],
      "metadata": {
        "id": "Qx64BHHVQn9R"
      }
    },
    {
      "cell_type": "markdown",
      "source": [],
      "metadata": {
        "id": "_TStrkpYQqM3"
      }
    },
    {
      "cell_type": "code",
      "source": [
        "frase = input(\"Ingrese una frase: \")\n",
        "print(frase.replace(\"e\", \"f\"))"
      ],
      "metadata": {
        "colab": {
          "base_uri": "https://localhost:8080/"
        },
        "id": "AtTFdH2WQyHn",
        "outputId": "e600332b-7de1-46e5-9eca-f6db94942bb3"
      },
      "execution_count": 34,
      "outputs": [
        {
          "output_type": "stream",
          "name": "stdout",
          "text": [
            "Ingrese una frase: el elefante es lento\n",
            "fl flffantf fs lfnto\n"
          ]
        }
      ]
    },
    {
      "cell_type": "markdown",
      "source": [
        "22 - Crea un código que solicite una frase al usuario y luego imprima la misma frase con todas las vocales \"a\" reemplazadas por el carácter \"@\"."
      ],
      "metadata": {
        "id": "e3BI7lZKRG2Y"
      }
    },
    {
      "cell_type": "code",
      "source": [
        "frase = input(\"Ingrese una frase: \")\n",
        "print(frase.replace(\"a\", \"@\"))"
      ],
      "metadata": {
        "colab": {
          "base_uri": "https://localhost:8080/"
        },
        "id": "DgkQEuP5RIY4",
        "outputId": "e12b026c-6246-4f5c-cdac-4ea7874b9978"
      },
      "execution_count": 35,
      "outputs": [
        {
          "output_type": "stream",
          "name": "stdout",
          "text": [
            "Ingrese una frase: Mi mama es linda\n",
            "Mi m@m@ es lind@\n"
          ]
        }
      ]
    },
    {
      "cell_type": "markdown",
      "source": [
        "23 - Crea un código que solicite una frase al usuario y luego imprima la misma frase con todas las consonantes \"s\" reemplazadas por el carácter \"$\"."
      ],
      "metadata": {
        "id": "h5KqkvIzRbNo"
      }
    },
    {
      "cell_type": "code",
      "source": [
        "frase = input(\"Ingrese una frase: \")\n",
        "print(frase.replace(\"s\", \"$\"))"
      ],
      "metadata": {
        "colab": {
          "base_uri": "https://localhost:8080/"
        },
        "id": "5sFBrj68RccQ",
        "outputId": "99f704f3-9611-430a-8f8c-1018ec1b820e"
      },
      "execution_count": 36,
      "outputs": [
        {
          "output_type": "stream",
          "name": "stdout",
          "text": [
            "Ingrese una frase: Las rosas son azules\n",
            "La$ ro$a$ $on azule$\n"
          ]
        }
      ]
    }
  ]
}